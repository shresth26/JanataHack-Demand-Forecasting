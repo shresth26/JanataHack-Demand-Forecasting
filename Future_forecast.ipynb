{
  "nbformat": 4,
  "nbformat_minor": 0,
  "metadata": {
    "kernelspec": {
      "name": "python3",
      "display_name": "Python 3",
      "language": "python"
    },
    "language_info": {
      "name": "python",
      "version": "3.7.6",
      "mimetype": "text/x-python",
      "codemirror_mode": {
        "name": "ipython",
        "version": 3
      },
      "pygments_lexer": "ipython3",
      "nbconvert_exporter": "python",
      "file_extension": ".py"
    },
    "colab": {
      "name": "Future-forecast.ipynb",
      "provenance": [],
      "collapsed_sections": []
    }
  },
  "cells": [
    {
      "cell_type": "code",
      "metadata": {
        "_uuid": "8f2839f25d086af736a60e9eeb907d3b93b6e0e5",
        "_cell_guid": "b1076dfc-b9ad-4769-8c92-a6c4dae69d19",
        "trusted": true,
        "id": "0o-EbyBusEj9",
        "colab_type": "code",
        "colab": {},
        "outputId": "91157afa-e124-42bf-f396-c370ec94aa33"
      },
      "source": [
        "import numpy as np \n",
        "import pandas as pd\n",
        "import os\n",
        "for dirname, _, filenames in os.walk('/kaggle/input'):\n",
        "    for filename in filenames:\n",
        "        print(os.path.join(dirname, filename))"
      ],
      "execution_count": null,
      "outputs": [
        {
          "output_type": "stream",
          "text": [
            "/kaggle/input/demand-forecasting/test_nfaJ3J5.csv\n",
            "/kaggle/input/demand-forecasting/sample_submission_pzljTaX.csv\n",
            "/kaggle/input/demand-forecasting/train_0irEZ2H.csv\n"
          ],
          "name": "stdout"
        }
      ]
    },
    {
      "cell_type": "code",
      "metadata": {
        "_uuid": "d629ff2d2480ee46fbb7e2d37f6b5fab8052498a",
        "_cell_guid": "79c7e3d0-c299-4dcb-8224-4455121ee9b0",
        "trusted": true,
        "id": "BDTrYfnjsEkI",
        "colab_type": "code",
        "colab": {}
      },
      "source": [
        "import pandas as pd\n",
        "import numpy as np\n",
        "import matplotlib.pyplot as plt\n",
        "import seaborn as sns\n",
        "import sklearn"
      ],
      "execution_count": null,
      "outputs": []
    },
    {
      "cell_type": "code",
      "metadata": {
        "trusted": true,
        "id": "3Ew6GKG1sEkQ",
        "colab_type": "code",
        "colab": {},
        "outputId": "928efc84-da15-4662-dba3-dd0c1802e877"
      },
      "source": [
        "train = pd.read_csv('/kaggle/input/demand-forecasting/train_0irEZ2H.csv')\n",
        "test = pd.read_csv('/kaggle/input/demand-forecasting/test_nfaJ3J5.csv')\n",
        "submit = pd.read_csv('/kaggle/input/demand-forecasting/sample_submission_pzljTaX.csv')\n",
        "train.head()"
      ],
      "execution_count": null,
      "outputs": [
        {
          "output_type": "execute_result",
          "data": {
            "text/plain": [
              "   record_ID      week  store_id  sku_id  total_price  base_price  \\\n",
              "0          1  17/01/11      8091  216418      99.0375    111.8625   \n",
              "1          2  17/01/11      8091  216419      99.0375     99.0375   \n",
              "2          3  17/01/11      8091  216425     133.9500    133.9500   \n",
              "3          4  17/01/11      8091  216233     133.9500    133.9500   \n",
              "4          5  17/01/11      8091  217390     141.0750    141.0750   \n",
              "\n",
              "   is_featured_sku  is_display_sku  units_sold  \n",
              "0                0               0          20  \n",
              "1                0               0          28  \n",
              "2                0               0          19  \n",
              "3                0               0          44  \n",
              "4                0               0          52  "
            ],
            "text/html": [
              "<div>\n",
              "<style scoped>\n",
              "    .dataframe tbody tr th:only-of-type {\n",
              "        vertical-align: middle;\n",
              "    }\n",
              "\n",
              "    .dataframe tbody tr th {\n",
              "        vertical-align: top;\n",
              "    }\n",
              "\n",
              "    .dataframe thead th {\n",
              "        text-align: right;\n",
              "    }\n",
              "</style>\n",
              "<table border=\"1\" class=\"dataframe\">\n",
              "  <thead>\n",
              "    <tr style=\"text-align: right;\">\n",
              "      <th></th>\n",
              "      <th>record_ID</th>\n",
              "      <th>week</th>\n",
              "      <th>store_id</th>\n",
              "      <th>sku_id</th>\n",
              "      <th>total_price</th>\n",
              "      <th>base_price</th>\n",
              "      <th>is_featured_sku</th>\n",
              "      <th>is_display_sku</th>\n",
              "      <th>units_sold</th>\n",
              "    </tr>\n",
              "  </thead>\n",
              "  <tbody>\n",
              "    <tr>\n",
              "      <th>0</th>\n",
              "      <td>1</td>\n",
              "      <td>17/01/11</td>\n",
              "      <td>8091</td>\n",
              "      <td>216418</td>\n",
              "      <td>99.0375</td>\n",
              "      <td>111.8625</td>\n",
              "      <td>0</td>\n",
              "      <td>0</td>\n",
              "      <td>20</td>\n",
              "    </tr>\n",
              "    <tr>\n",
              "      <th>1</th>\n",
              "      <td>2</td>\n",
              "      <td>17/01/11</td>\n",
              "      <td>8091</td>\n",
              "      <td>216419</td>\n",
              "      <td>99.0375</td>\n",
              "      <td>99.0375</td>\n",
              "      <td>0</td>\n",
              "      <td>0</td>\n",
              "      <td>28</td>\n",
              "    </tr>\n",
              "    <tr>\n",
              "      <th>2</th>\n",
              "      <td>3</td>\n",
              "      <td>17/01/11</td>\n",
              "      <td>8091</td>\n",
              "      <td>216425</td>\n",
              "      <td>133.9500</td>\n",
              "      <td>133.9500</td>\n",
              "      <td>0</td>\n",
              "      <td>0</td>\n",
              "      <td>19</td>\n",
              "    </tr>\n",
              "    <tr>\n",
              "      <th>3</th>\n",
              "      <td>4</td>\n",
              "      <td>17/01/11</td>\n",
              "      <td>8091</td>\n",
              "      <td>216233</td>\n",
              "      <td>133.9500</td>\n",
              "      <td>133.9500</td>\n",
              "      <td>0</td>\n",
              "      <td>0</td>\n",
              "      <td>44</td>\n",
              "    </tr>\n",
              "    <tr>\n",
              "      <th>4</th>\n",
              "      <td>5</td>\n",
              "      <td>17/01/11</td>\n",
              "      <td>8091</td>\n",
              "      <td>217390</td>\n",
              "      <td>141.0750</td>\n",
              "      <td>141.0750</td>\n",
              "      <td>0</td>\n",
              "      <td>0</td>\n",
              "      <td>52</td>\n",
              "    </tr>\n",
              "  </tbody>\n",
              "</table>\n",
              "</div>"
            ]
          },
          "metadata": {
            "tags": []
          },
          "execution_count": 160
        }
      ]
    },
    {
      "cell_type": "code",
      "metadata": {
        "trusted": true,
        "id": "oXa568hbsEkW",
        "colab_type": "code",
        "colab": {}
      },
      "source": [
        "from sklearn.metrics import mean_squared_error\n",
        "def RMSLE(actual, predicted):\n",
        "\n",
        "    error = mean_squared_error(actual,predicted)\n",
        "    \n",
        "    return error"
      ],
      "execution_count": null,
      "outputs": []
    },
    {
      "cell_type": "code",
      "metadata": {
        "trusted": true,
        "id": "7QfdW5fWsEkb",
        "colab_type": "code",
        "colab": {},
        "outputId": "2f8bbacc-51e7-477b-a3c4-f8af00ced242"
      },
      "source": [
        "train.isna().sum()"
      ],
      "execution_count": null,
      "outputs": [
        {
          "output_type": "execute_result",
          "data": {
            "text/plain": [
              "record_ID          0\n",
              "week               0\n",
              "store_id           0\n",
              "sku_id             0\n",
              "total_price        1\n",
              "base_price         0\n",
              "is_featured_sku    0\n",
              "is_display_sku     0\n",
              "units_sold         0\n",
              "dtype: int64"
            ]
          },
          "metadata": {
            "tags": []
          },
          "execution_count": 162
        }
      ]
    },
    {
      "cell_type": "code",
      "metadata": {
        "trusted": true,
        "id": "rwcXkiN6sEkh",
        "colab_type": "code",
        "colab": {}
      },
      "source": [
        "temp = train[train['total_price'].isnull()]['base_price']\n",
        "train.total_price = train.total_price.fillna(temp)"
      ],
      "execution_count": null,
      "outputs": []
    },
    {
      "cell_type": "code",
      "metadata": {
        "trusted": true,
        "id": "hkP1vryIsEkm",
        "colab_type": "code",
        "colab": {},
        "outputId": "77679629-f85e-4ab8-f1ad-88854e0cadbc"
      },
      "source": [
        "train.info()"
      ],
      "execution_count": null,
      "outputs": [
        {
          "output_type": "stream",
          "text": [
            "<class 'pandas.core.frame.DataFrame'>\n",
            "RangeIndex: 150150 entries, 0 to 150149\n",
            "Data columns (total 9 columns):\n",
            " #   Column           Non-Null Count   Dtype  \n",
            "---  ------           --------------   -----  \n",
            " 0   record_ID        150150 non-null  int64  \n",
            " 1   week             150150 non-null  object \n",
            " 2   store_id         150150 non-null  int64  \n",
            " 3   sku_id           150150 non-null  int64  \n",
            " 4   total_price      150150 non-null  float64\n",
            " 5   base_price       150150 non-null  float64\n",
            " 6   is_featured_sku  150150 non-null  int64  \n",
            " 7   is_display_sku   150150 non-null  int64  \n",
            " 8   units_sold       150150 non-null  int64  \n",
            "dtypes: float64(2), int64(6), object(1)\n",
            "memory usage: 10.3+ MB\n"
          ],
          "name": "stdout"
        }
      ]
    },
    {
      "cell_type": "code",
      "metadata": {
        "trusted": true,
        "id": "R0-eyrG3sEkq",
        "colab_type": "code",
        "colab": {},
        "outputId": "87d743bc-0a20-4860-dfc2-62c79a77b717"
      },
      "source": [
        "train.describe()"
      ],
      "execution_count": null,
      "outputs": [
        {
          "output_type": "execute_result",
          "data": {
            "text/plain": [
              "           record_ID       store_id         sku_id    total_price  \\\n",
              "count  150150.000000  150150.000000  150150.000000  150150.000000   \n",
              "mean   106271.555504    9199.422511  254761.132468     206.628502   \n",
              "std     61386.037861     615.591445   85547.306447     103.310400   \n",
              "min         1.000000    8023.000000  216233.000000      41.325000   \n",
              "25%     53111.250000    8562.000000  217217.000000     130.387500   \n",
              "50%    106226.500000    9371.000000  222087.000000     198.075000   \n",
              "75%    159452.750000    9731.000000  245338.000000     233.700000   \n",
              "max    212644.000000    9984.000000  679023.000000     562.162500   \n",
              "\n",
              "          base_price  is_featured_sku  is_display_sku     units_sold  \n",
              "count  150150.000000    150150.000000   150150.000000  150150.000000  \n",
              "mean      219.425927         0.095611        0.133200      51.674206  \n",
              "std       110.961712         0.294058        0.339792      60.207904  \n",
              "min        61.275000         0.000000        0.000000       1.000000  \n",
              "25%       133.237500         0.000000        0.000000      20.000000  \n",
              "50%       205.912500         0.000000        0.000000      35.000000  \n",
              "75%       234.412500         0.000000        0.000000      62.000000  \n",
              "max       562.162500         1.000000        1.000000    2876.000000  "
            ],
            "text/html": [
              "<div>\n",
              "<style scoped>\n",
              "    .dataframe tbody tr th:only-of-type {\n",
              "        vertical-align: middle;\n",
              "    }\n",
              "\n",
              "    .dataframe tbody tr th {\n",
              "        vertical-align: top;\n",
              "    }\n",
              "\n",
              "    .dataframe thead th {\n",
              "        text-align: right;\n",
              "    }\n",
              "</style>\n",
              "<table border=\"1\" class=\"dataframe\">\n",
              "  <thead>\n",
              "    <tr style=\"text-align: right;\">\n",
              "      <th></th>\n",
              "      <th>record_ID</th>\n",
              "      <th>store_id</th>\n",
              "      <th>sku_id</th>\n",
              "      <th>total_price</th>\n",
              "      <th>base_price</th>\n",
              "      <th>is_featured_sku</th>\n",
              "      <th>is_display_sku</th>\n",
              "      <th>units_sold</th>\n",
              "    </tr>\n",
              "  </thead>\n",
              "  <tbody>\n",
              "    <tr>\n",
              "      <th>count</th>\n",
              "      <td>150150.000000</td>\n",
              "      <td>150150.000000</td>\n",
              "      <td>150150.000000</td>\n",
              "      <td>150150.000000</td>\n",
              "      <td>150150.000000</td>\n",
              "      <td>150150.000000</td>\n",
              "      <td>150150.000000</td>\n",
              "      <td>150150.000000</td>\n",
              "    </tr>\n",
              "    <tr>\n",
              "      <th>mean</th>\n",
              "      <td>106271.555504</td>\n",
              "      <td>9199.422511</td>\n",
              "      <td>254761.132468</td>\n",
              "      <td>206.628502</td>\n",
              "      <td>219.425927</td>\n",
              "      <td>0.095611</td>\n",
              "      <td>0.133200</td>\n",
              "      <td>51.674206</td>\n",
              "    </tr>\n",
              "    <tr>\n",
              "      <th>std</th>\n",
              "      <td>61386.037861</td>\n",
              "      <td>615.591445</td>\n",
              "      <td>85547.306447</td>\n",
              "      <td>103.310400</td>\n",
              "      <td>110.961712</td>\n",
              "      <td>0.294058</td>\n",
              "      <td>0.339792</td>\n",
              "      <td>60.207904</td>\n",
              "    </tr>\n",
              "    <tr>\n",
              "      <th>min</th>\n",
              "      <td>1.000000</td>\n",
              "      <td>8023.000000</td>\n",
              "      <td>216233.000000</td>\n",
              "      <td>41.325000</td>\n",
              "      <td>61.275000</td>\n",
              "      <td>0.000000</td>\n",
              "      <td>0.000000</td>\n",
              "      <td>1.000000</td>\n",
              "    </tr>\n",
              "    <tr>\n",
              "      <th>25%</th>\n",
              "      <td>53111.250000</td>\n",
              "      <td>8562.000000</td>\n",
              "      <td>217217.000000</td>\n",
              "      <td>130.387500</td>\n",
              "      <td>133.237500</td>\n",
              "      <td>0.000000</td>\n",
              "      <td>0.000000</td>\n",
              "      <td>20.000000</td>\n",
              "    </tr>\n",
              "    <tr>\n",
              "      <th>50%</th>\n",
              "      <td>106226.500000</td>\n",
              "      <td>9371.000000</td>\n",
              "      <td>222087.000000</td>\n",
              "      <td>198.075000</td>\n",
              "      <td>205.912500</td>\n",
              "      <td>0.000000</td>\n",
              "      <td>0.000000</td>\n",
              "      <td>35.000000</td>\n",
              "    </tr>\n",
              "    <tr>\n",
              "      <th>75%</th>\n",
              "      <td>159452.750000</td>\n",
              "      <td>9731.000000</td>\n",
              "      <td>245338.000000</td>\n",
              "      <td>233.700000</td>\n",
              "      <td>234.412500</td>\n",
              "      <td>0.000000</td>\n",
              "      <td>0.000000</td>\n",
              "      <td>62.000000</td>\n",
              "    </tr>\n",
              "    <tr>\n",
              "      <th>max</th>\n",
              "      <td>212644.000000</td>\n",
              "      <td>9984.000000</td>\n",
              "      <td>679023.000000</td>\n",
              "      <td>562.162500</td>\n",
              "      <td>562.162500</td>\n",
              "      <td>1.000000</td>\n",
              "      <td>1.000000</td>\n",
              "      <td>2876.000000</td>\n",
              "    </tr>\n",
              "  </tbody>\n",
              "</table>\n",
              "</div>"
            ]
          },
          "metadata": {
            "tags": []
          },
          "execution_count": 165
        }
      ]
    },
    {
      "cell_type": "code",
      "metadata": {
        "trusted": true,
        "id": "Hx6do1r1sEkx",
        "colab_type": "code",
        "colab": {},
        "outputId": "df85b094-f09d-4d73-dded-33088ff5c1ac"
      },
      "source": [
        "train.store_id.nunique()"
      ],
      "execution_count": null,
      "outputs": [
        {
          "output_type": "execute_result",
          "data": {
            "text/plain": [
              "76"
            ]
          },
          "metadata": {
            "tags": []
          },
          "execution_count": 166
        }
      ]
    },
    {
      "cell_type": "code",
      "metadata": {
        "trusted": true,
        "id": "0IZ0jzsUsEk1",
        "colab_type": "code",
        "colab": {},
        "outputId": "6ba8e720-a4a6-43ad-f3e5-82965e5d71b4"
      },
      "source": [
        "train"
      ],
      "execution_count": null,
      "outputs": [
        {
          "output_type": "execute_result",
          "data": {
            "text/plain": [
              "        record_ID      week  store_id  sku_id  total_price  base_price  \\\n",
              "0               1  17/01/11      8091  216418      99.0375    111.8625   \n",
              "1               2  17/01/11      8091  216419      99.0375     99.0375   \n",
              "2               3  17/01/11      8091  216425     133.9500    133.9500   \n",
              "3               4  17/01/11      8091  216233     133.9500    133.9500   \n",
              "4               5  17/01/11      8091  217390     141.0750    141.0750   \n",
              "...           ...       ...       ...     ...          ...         ...   \n",
              "150145     212638  09/07/13      9984  223245     235.8375    235.8375   \n",
              "150146     212639  09/07/13      9984  223153     235.8375    235.8375   \n",
              "150147     212642  09/07/13      9984  245338     357.6750    483.7875   \n",
              "150148     212643  09/07/13      9984  547934     141.7875    191.6625   \n",
              "150149     212644  09/07/13      9984  679023     234.4125    234.4125   \n",
              "\n",
              "        is_featured_sku  is_display_sku  units_sold  \n",
              "0                     0               0          20  \n",
              "1                     0               0          28  \n",
              "2                     0               0          19  \n",
              "3                     0               0          44  \n",
              "4                     0               0          52  \n",
              "...                 ...             ...         ...  \n",
              "150145                0               0          38  \n",
              "150146                0               0          30  \n",
              "150147                1               1          31  \n",
              "150148                0               1          12  \n",
              "150149                0               0          15  \n",
              "\n",
              "[150150 rows x 9 columns]"
            ],
            "text/html": [
              "<div>\n",
              "<style scoped>\n",
              "    .dataframe tbody tr th:only-of-type {\n",
              "        vertical-align: middle;\n",
              "    }\n",
              "\n",
              "    .dataframe tbody tr th {\n",
              "        vertical-align: top;\n",
              "    }\n",
              "\n",
              "    .dataframe thead th {\n",
              "        text-align: right;\n",
              "    }\n",
              "</style>\n",
              "<table border=\"1\" class=\"dataframe\">\n",
              "  <thead>\n",
              "    <tr style=\"text-align: right;\">\n",
              "      <th></th>\n",
              "      <th>record_ID</th>\n",
              "      <th>week</th>\n",
              "      <th>store_id</th>\n",
              "      <th>sku_id</th>\n",
              "      <th>total_price</th>\n",
              "      <th>base_price</th>\n",
              "      <th>is_featured_sku</th>\n",
              "      <th>is_display_sku</th>\n",
              "      <th>units_sold</th>\n",
              "    </tr>\n",
              "  </thead>\n",
              "  <tbody>\n",
              "    <tr>\n",
              "      <th>0</th>\n",
              "      <td>1</td>\n",
              "      <td>17/01/11</td>\n",
              "      <td>8091</td>\n",
              "      <td>216418</td>\n",
              "      <td>99.0375</td>\n",
              "      <td>111.8625</td>\n",
              "      <td>0</td>\n",
              "      <td>0</td>\n",
              "      <td>20</td>\n",
              "    </tr>\n",
              "    <tr>\n",
              "      <th>1</th>\n",
              "      <td>2</td>\n",
              "      <td>17/01/11</td>\n",
              "      <td>8091</td>\n",
              "      <td>216419</td>\n",
              "      <td>99.0375</td>\n",
              "      <td>99.0375</td>\n",
              "      <td>0</td>\n",
              "      <td>0</td>\n",
              "      <td>28</td>\n",
              "    </tr>\n",
              "    <tr>\n",
              "      <th>2</th>\n",
              "      <td>3</td>\n",
              "      <td>17/01/11</td>\n",
              "      <td>8091</td>\n",
              "      <td>216425</td>\n",
              "      <td>133.9500</td>\n",
              "      <td>133.9500</td>\n",
              "      <td>0</td>\n",
              "      <td>0</td>\n",
              "      <td>19</td>\n",
              "    </tr>\n",
              "    <tr>\n",
              "      <th>3</th>\n",
              "      <td>4</td>\n",
              "      <td>17/01/11</td>\n",
              "      <td>8091</td>\n",
              "      <td>216233</td>\n",
              "      <td>133.9500</td>\n",
              "      <td>133.9500</td>\n",
              "      <td>0</td>\n",
              "      <td>0</td>\n",
              "      <td>44</td>\n",
              "    </tr>\n",
              "    <tr>\n",
              "      <th>4</th>\n",
              "      <td>5</td>\n",
              "      <td>17/01/11</td>\n",
              "      <td>8091</td>\n",
              "      <td>217390</td>\n",
              "      <td>141.0750</td>\n",
              "      <td>141.0750</td>\n",
              "      <td>0</td>\n",
              "      <td>0</td>\n",
              "      <td>52</td>\n",
              "    </tr>\n",
              "    <tr>\n",
              "      <th>...</th>\n",
              "      <td>...</td>\n",
              "      <td>...</td>\n",
              "      <td>...</td>\n",
              "      <td>...</td>\n",
              "      <td>...</td>\n",
              "      <td>...</td>\n",
              "      <td>...</td>\n",
              "      <td>...</td>\n",
              "      <td>...</td>\n",
              "    </tr>\n",
              "    <tr>\n",
              "      <th>150145</th>\n",
              "      <td>212638</td>\n",
              "      <td>09/07/13</td>\n",
              "      <td>9984</td>\n",
              "      <td>223245</td>\n",
              "      <td>235.8375</td>\n",
              "      <td>235.8375</td>\n",
              "      <td>0</td>\n",
              "      <td>0</td>\n",
              "      <td>38</td>\n",
              "    </tr>\n",
              "    <tr>\n",
              "      <th>150146</th>\n",
              "      <td>212639</td>\n",
              "      <td>09/07/13</td>\n",
              "      <td>9984</td>\n",
              "      <td>223153</td>\n",
              "      <td>235.8375</td>\n",
              "      <td>235.8375</td>\n",
              "      <td>0</td>\n",
              "      <td>0</td>\n",
              "      <td>30</td>\n",
              "    </tr>\n",
              "    <tr>\n",
              "      <th>150147</th>\n",
              "      <td>212642</td>\n",
              "      <td>09/07/13</td>\n",
              "      <td>9984</td>\n",
              "      <td>245338</td>\n",
              "      <td>357.6750</td>\n",
              "      <td>483.7875</td>\n",
              "      <td>1</td>\n",
              "      <td>1</td>\n",
              "      <td>31</td>\n",
              "    </tr>\n",
              "    <tr>\n",
              "      <th>150148</th>\n",
              "      <td>212643</td>\n",
              "      <td>09/07/13</td>\n",
              "      <td>9984</td>\n",
              "      <td>547934</td>\n",
              "      <td>141.7875</td>\n",
              "      <td>191.6625</td>\n",
              "      <td>0</td>\n",
              "      <td>1</td>\n",
              "      <td>12</td>\n",
              "    </tr>\n",
              "    <tr>\n",
              "      <th>150149</th>\n",
              "      <td>212644</td>\n",
              "      <td>09/07/13</td>\n",
              "      <td>9984</td>\n",
              "      <td>679023</td>\n",
              "      <td>234.4125</td>\n",
              "      <td>234.4125</td>\n",
              "      <td>0</td>\n",
              "      <td>0</td>\n",
              "      <td>15</td>\n",
              "    </tr>\n",
              "  </tbody>\n",
              "</table>\n",
              "<p>150150 rows × 9 columns</p>\n",
              "</div>"
            ]
          },
          "metadata": {
            "tags": []
          },
          "execution_count": 167
        }
      ]
    },
    {
      "cell_type": "code",
      "metadata": {
        "trusted": true,
        "id": "kopXeWeRsEk5",
        "colab_type": "code",
        "colab": {}
      },
      "source": [
        "train['diff'] = train['base_price'] - train['total_price']\n",
        "train['percent_per_base'] = train['diff'] / train['base_price']\n",
        "train['percent_per_total'] = train['diff'] / train['total_price']"
      ],
      "execution_count": null,
      "outputs": []
    },
    {
      "cell_type": "code",
      "metadata": {
        "trusted": true,
        "id": "S3CQ5T9rsEk_",
        "colab_type": "code",
        "colab": {}
      },
      "source": [
        "test['diff'] = test['base_price'] - test['total_price']\n",
        "test['percent_per_base'] = test['diff'] / test['base_price']\n",
        "test['percent_per_total'] = test['diff'] / test['total_price']"
      ],
      "execution_count": null,
      "outputs": []
    },
    {
      "cell_type": "code",
      "metadata": {
        "trusted": true,
        "id": "7DUNhbgtsElD",
        "colab_type": "code",
        "colab": {},
        "outputId": "87c52cd1-9b4d-48c0-b961-5a3ec51aa6f0"
      },
      "source": [
        "plt.figure(figsize=(10,8))\n",
        "sns.heatmap(train.corr(),annot=True)"
      ],
      "execution_count": null,
      "outputs": [
        {
          "output_type": "execute_result",
          "data": {
            "text/plain": [
              "<matplotlib.axes._subplots.AxesSubplot at 0x7fe20bef8d90>"
            ]
          },
          "metadata": {
            "tags": []
          },
          "execution_count": 170
        },
        {
          "output_type": "display_data",
          "data": {
            "text/plain": [
              "<Figure size 720x576 with 2 Axes>"
            ],
            "image/png": "[encoded data removed]"
          },
          "metadata": {
            "tags": [],
            "needs_background": "light"
          }
        }
      ]
    },
    {
      "cell_type": "code",
      "metadata": {
        "trusted": true,
        "id": "Lv7KWbLrsElK",
        "colab_type": "code",
        "colab": {}
      },
      "source": [
        "test['units_sold']= -1\n",
        "data = train.append(test, ignore_index = True)"
      ],
      "execution_count": null,
      "outputs": []
    },
    {
      "cell_type": "code",
      "metadata": {
        "trusted": true,
        "id": "-hBYbiCxsElN",
        "colab_type": "code",
        "colab": {},
        "outputId": "85c358b7-f746-403d-8918-5c6104f1cd67"
      },
      "source": [
        "data"
      ],
      "execution_count": null,
      "outputs": [
        {
          "output_type": "execute_result",
          "data": {
            "text/plain": [
              "        record_ID      week  store_id  sku_id  total_price  base_price  \\\n",
              "0               1  17/01/11      8091  216418      99.0375    111.8625   \n",
              "1               2  17/01/11      8091  216419      99.0375     99.0375   \n",
              "2               3  17/01/11      8091  216425     133.9500    133.9500   \n",
              "3               4  17/01/11      8091  216233     133.9500    133.9500   \n",
              "4               5  17/01/11      8091  217390     141.0750    141.0750   \n",
              "...           ...       ...       ...     ...          ...         ...   \n",
              "164005     232281  01/10/13      9984  223245     241.5375    241.5375   \n",
              "164006     232282  01/10/13      9984  223153     240.8250    240.8250   \n",
              "164007     232285  01/10/13      9984  245338     382.6125    401.8500   \n",
              "164008     232286  01/10/13      9984  547934     191.6625    191.6625   \n",
              "164009     232287  01/10/13      9984  679023     234.4125    234.4125   \n",
              "\n",
              "        is_featured_sku  is_display_sku  units_sold     diff  \\\n",
              "0                     0               0          20  12.8250   \n",
              "1                     0               0          28   0.0000   \n",
              "2                     0               0          19   0.0000   \n",
              "3                     0               0          44   0.0000   \n",
              "4                     0               0          52   0.0000   \n",
              "...                 ...             ...         ...      ...   \n",
              "164005                0               0          -1   0.0000   \n",
              "164006                0               0          -1   0.0000   \n",
              "164007                1               1          -1  19.2375   \n",
              "164008                0               0          -1   0.0000   \n",
              "164009                0               0          -1   0.0000   \n",
              "\n",
              "        percent_per_base  percent_per_total  \n",
              "0               0.114650           0.129496  \n",
              "1               0.000000           0.000000  \n",
              "2               0.000000           0.000000  \n",
              "3               0.000000           0.000000  \n",
              "4               0.000000           0.000000  \n",
              "...                  ...                ...  \n",
              "164005          0.000000           0.000000  \n",
              "164006          0.000000           0.000000  \n",
              "164007          0.047872           0.050279  \n",
              "164008          0.000000           0.000000  \n",
              "164009          0.000000           0.000000  \n",
              "\n",
              "[164010 rows x 12 columns]"
            ],
            "text/html": [
              "<div>\n",
              "<style scoped>\n",
              "    .dataframe tbody tr th:only-of-type {\n",
              "        vertical-align: middle;\n",
              "    }\n",
              "\n",
              "    .dataframe tbody tr th {\n",
              "        vertical-align: top;\n",
              "    }\n",
              "\n",
              "    .dataframe thead th {\n",
              "        text-align: right;\n",
              "    }\n",
              "</style>\n",
              "<table border=\"1\" class=\"dataframe\">\n",
              "  <thead>\n",
              "    <tr style=\"text-align: right;\">\n",
              "      <th></th>\n",
              "      <th>record_ID</th>\n",
              "      <th>week</th>\n",
              "      <th>store_id</th>\n",
              "      <th>sku_id</th>\n",
              "      <th>total_price</th>\n",
              "      <th>base_price</th>\n",
              "      <th>is_featured_sku</th>\n",
              "      <th>is_display_sku</th>\n",
              "      <th>units_sold</th>\n",
              "      <th>diff</th>\n",
              "      <th>percent_per_base</th>\n",
              "      <th>percent_per_total</th>\n",
              "    </tr>\n",
              "  </thead>\n",
              "  <tbody>\n",
              "    <tr>\n",
              "      <th>0</th>\n",
              "      <td>1</td>\n",
              "      <td>17/01/11</td>\n",
              "      <td>8091</td>\n",
              "      <td>216418</td>\n",
              "      <td>99.0375</td>\n",
              "      <td>111.8625</td>\n",
              "      <td>0</td>\n",
              "      <td>0</td>\n",
              "      <td>20</td>\n",
              "      <td>12.8250</td>\n",
              "      <td>0.114650</td>\n",
              "      <td>0.129496</td>\n",
              "    </tr>\n",
              "    <tr>\n",
              "      <th>1</th>\n",
              "      <td>2</td>\n",
              "      <td>17/01/11</td>\n",
              "      <td>8091</td>\n",
              "      <td>216419</td>\n",
              "      <td>99.0375</td>\n",
              "      <td>99.0375</td>\n",
              "      <td>0</td>\n",
              "      <td>0</td>\n",
              "      <td>28</td>\n",
              "      <td>0.0000</td>\n",
              "      <td>0.000000</td>\n",
              "      <td>0.000000</td>\n",
              "    </tr>\n",
              "    <tr>\n",
              "      <th>2</th>\n",
              "      <td>3</td>\n",
              "      <td>17/01/11</td>\n",
              "      <td>8091</td>\n",
              "      <td>216425</td>\n",
              "      <td>133.9500</td>\n",
              "      <td>133.9500</td>\n",
              "      <td>0</td>\n",
              "      <td>0</td>\n",
              "      <td>19</td>\n",
              "      <td>0.0000</td>\n",
              "      <td>0.000000</td>\n",
              "      <td>0.000000</td>\n",
              "    </tr>\n",
              "    <tr>\n",
              "      <th>3</th>\n",
              "      <td>4</td>\n",
              "      <td>17/01/11</td>\n",
              "      <td>8091</td>\n",
              "      <td>216233</td>\n",
              "      <td>133.9500</td>\n",
              "      <td>133.9500</td>\n",
              "      <td>0</td>\n",
              "      <td>0</td>\n",
              "      <td>44</td>\n",
              "      <td>0.0000</td>\n",
              "      <td>0.000000</td>\n",
              "      <td>0.000000</td>\n",
              "    </tr>\n",
              "    <tr>\n",
              "      <th>4</th>\n",
              "      <td>5</td>\n",
              "      <td>17/01/11</td>\n",
              "      <td>8091</td>\n",
              "      <td>217390</td>\n",
              "      <td>141.0750</td>\n",
              "      <td>141.0750</td>\n",
              "      <td>0</td>\n",
              "      <td>0</td>\n",
              "      <td>52</td>\n",
              "      <td>0.0000</td>\n",
              "      <td>0.000000</td>\n",
              "      <td>0.000000</td>\n",
              "    </tr>\n",
              "    <tr>\n",
              "      <th>...</th>\n",
              "      <td>...</td>\n",
              "      <td>...</td>\n",
              "      <td>...</td>\n",
              "      <td>...</td>\n",
              "      <td>...</td>\n",
              "      <td>...</td>\n",
              "      <td>...</td>\n",
              "      <td>...</td>\n",
              "      <td>...</td>\n",
              "      <td>...</td>\n",
              "      <td>...</td>\n",
              "      <td>...</td>\n",
              "    </tr>\n",
              "    <tr>\n",
              "      <th>164005</th>\n",
              "      <td>232281</td>\n",
              "      <td>01/10/13</td>\n",
              "      <td>9984</td>\n",
              "      <td>223245</td>\n",
              "      <td>241.5375</td>\n",
              "      <td>241.5375</td>\n",
              "      <td>0</td>\n",
              "      <td>0</td>\n",
              "      <td>-1</td>\n",
              "      <td>0.0000</td>\n",
              "      <td>0.000000</td>\n",
              "      <td>0.000000</td>\n",
              "    </tr>\n",
              "    <tr>\n",
              "      <th>164006</th>\n",
              "      <td>232282</td>\n",
              "      <td>01/10/13</td>\n",
              "      <td>9984</td>\n",
              "      <td>223153</td>\n",
              "      <td>240.8250</td>\n",
              "      <td>240.8250</td>\n",
              "      <td>0</td>\n",
              "      <td>0</td>\n",
              "      <td>-1</td>\n",
              "      <td>0.0000</td>\n",
              "      <td>0.000000</td>\n",
              "      <td>0.000000</td>\n",
              "    </tr>\n",
              "    <tr>\n",
              "      <th>164007</th>\n",
              "      <td>232285</td>\n",
              "      <td>01/10/13</td>\n",
              "      <td>9984</td>\n",
              "      <td>245338</td>\n",
              "      <td>382.6125</td>\n",
              "      <td>401.8500</td>\n",
              "      <td>1</td>\n",
              "      <td>1</td>\n",
              "      <td>-1</td>\n",
              "      <td>19.2375</td>\n",
              "      <td>0.047872</td>\n",
              "      <td>0.050279</td>\n",
              "    </tr>\n",
              "    <tr>\n",
              "      <th>164008</th>\n",
              "      <td>232286</td>\n",
              "      <td>01/10/13</td>\n",
              "      <td>9984</td>\n",
              "      <td>547934</td>\n",
              "      <td>191.6625</td>\n",
              "      <td>191.6625</td>\n",
              "      <td>0</td>\n",
              "      <td>0</td>\n",
              "      <td>-1</td>\n",
              "      <td>0.0000</td>\n",
              "      <td>0.000000</td>\n",
              "      <td>0.000000</td>\n",
              "    </tr>\n",
              "    <tr>\n",
              "      <th>164009</th>\n",
              "      <td>232287</td>\n",
              "      <td>01/10/13</td>\n",
              "      <td>9984</td>\n",
              "      <td>679023</td>\n",
              "      <td>234.4125</td>\n",
              "      <td>234.4125</td>\n",
              "      <td>0</td>\n",
              "      <td>0</td>\n",
              "      <td>-1</td>\n",
              "      <td>0.0000</td>\n",
              "      <td>0.000000</td>\n",
              "      <td>0.000000</td>\n",
              "    </tr>\n",
              "  </tbody>\n",
              "</table>\n",
              "<p>164010 rows × 12 columns</p>\n",
              "</div>"
            ]
          },
          "metadata": {
            "tags": []
          },
          "execution_count": 172
        }
      ]
    },
    {
      "cell_type": "code",
      "metadata": {
        "trusted": true,
        "id": "YWCkIzzssElT",
        "colab_type": "code",
        "colab": {}
      },
      "source": [
        "cols = ['base_price', 'total_price', 'is_featured_sku', 'is_display_sku','diff','percent_per_base','percent_per_total']"
      ],
      "execution_count": null,
      "outputs": []
    },
    {
      "cell_type": "code",
      "metadata": {
        "trusted": true,
        "id": "y5yDGBIYsElW",
        "colab_type": "code",
        "colab": {},
        "outputId": "3aababb3-3e5b-4f13-bce5-0c0aa9c3e9c2"
      },
      "source": [
        "from sklearn.model_selection import train_test_split\n",
        "\n",
        "X = train[cols]\n",
        "y = train['units_sold'] \n",
        "\n",
        "Xtrain, Xval, ytrain, yval = train_test_split(X, y, test_size = 0.2, random_state = 1)\n",
        "print(Xtrain.shape, ytrain.shape, Xval.shape, yval.shape)"
      ],
      "execution_count": null,
      "outputs": [
        {
          "output_type": "stream",
          "text": [
            "(120120, 7) (120120,) (30030, 7) (30030,)\n"
          ],
          "name": "stdout"
        }
      ]
    },
    {
      "cell_type": "code",
      "metadata": {
        "trusted": true,
        "id": "NDOTYpJpsElZ",
        "colab_type": "code",
        "colab": {},
        "outputId": "5f21f059-5c0d-4507-ccf6-03714e1d56b3"
      },
      "source": [
        "from sklearn.model_selection import train_test_split\n",
        "Xtrain, Xval, ytrain, yval = train_test_split(x, y, test_size = 0.2, random_state = 1)\n",
        "print(Xtrain.shape, ytrain.shape, Xval.shape, yval.shape)"
      ],
      "execution_count": null,
      "outputs": [
        {
          "output_type": "stream",
          "text": [
            "(120120, 7) (120120,) (30030, 7) (30030,)\n"
          ],
          "name": "stdout"
        }
      ]
    },
    {
      "cell_type": "code",
      "metadata": {
        "trusted": true,
        "id": "Ii6JhqIFsElc",
        "colab_type": "code",
        "colab": {},
        "outputId": "4776ec50-891d-4a04-a091-3244182b8a40"
      },
      "source": [
        "Xtrain.isnull().sum()"
      ],
      "execution_count": null,
      "outputs": [
        {
          "output_type": "execute_result",
          "data": {
            "text/plain": [
              "base_price           0\n",
              "total_price          0\n",
              "is_featured_sku      0\n",
              "is_display_sku       0\n",
              "diff                 0\n",
              "percent_per_base     0\n",
              "percent_per_total    0\n",
              "dtype: int64"
            ]
          },
          "metadata": {
            "tags": []
          },
          "execution_count": 181
        }
      ]
    },
    {
      "cell_type": "code",
      "metadata": {
        "trusted": true,
        "id": "gkgJpXZSsElf",
        "colab_type": "code",
        "colab": {},
        "outputId": "8afe8a1b-460b-47ff-e6b0-38ec3a42c576"
      },
      "source": [
        "from sklearn.ensemble import RandomForestRegressor\n",
        "reg = RandomForestRegressor()\n",
        "reg.fit(Xtrain, ytrain)"
      ],
      "execution_count": null,
      "outputs": [
        {
          "output_type": "execute_result",
          "data": {
            "text/plain": [
              "RandomForestRegressor()"
            ]
          },
          "metadata": {
            "tags": []
          },
          "execution_count": 182
        }
      ]
    },
    {
      "cell_type": "code",
      "metadata": {
        "trusted": true,
        "id": "bT5mtS7CsElh",
        "colab_type": "code",
        "colab": {},
        "outputId": "b8c98fd6-57cc-4880-a074-b323647051a3"
      },
      "source": [
        "preds = reg.predict(Xval)\n",
        "print(f'The validation RMSLE error for baseline model is: {RMSLE(yval, preds)}')"
      ],
      "execution_count": null,
      "outputs": [
        {
          "output_type": "stream",
          "text": [
            "The validation RMSLE error for baseline model is: 1923.9109821948434\n"
          ],
          "name": "stdout"
        }
      ]
    },
    {
      "cell_type": "code",
      "metadata": {
        "trusted": true,
        "id": "8b9ojGxcsEln",
        "colab_type": "code",
        "colab": {},
        "outputId": "f0781fbd-5df2-4edb-c2bc-4e15ee6e3574"
      },
      "source": [
        "sub_preds = reg.predict(test[cols])\n",
        "submit['units_sold'] = sub_preds\n",
        "submit.head()"
      ],
      "execution_count": null,
      "outputs": [
        {
          "output_type": "execute_result",
          "data": {
            "text/plain": [
              "   record_ID  units_sold\n",
              "0     212645   80.175662\n",
              "1     212646   73.259578\n",
              "2     212647   47.114560\n",
              "3     212648   47.114560\n",
              "4     212649   62.346705"
            ],
            "text/html": [
              "<div>\n",
              "<style scoped>\n",
              "    .dataframe tbody tr th:only-of-type {\n",
              "        vertical-align: middle;\n",
              "    }\n",
              "\n",
              "    .dataframe tbody tr th {\n",
              "        vertical-align: top;\n",
              "    }\n",
              "\n",
              "    .dataframe thead th {\n",
              "        text-align: right;\n",
              "    }\n",
              "</style>\n",
              "<table border=\"1\" class=\"dataframe\">\n",
              "  <thead>\n",
              "    <tr style=\"text-align: right;\">\n",
              "      <th></th>\n",
              "      <th>record_ID</th>\n",
              "      <th>units_sold</th>\n",
              "    </tr>\n",
              "  </thead>\n",
              "  <tbody>\n",
              "    <tr>\n",
              "      <th>0</th>\n",
              "      <td>212645</td>\n",
              "      <td>80.175662</td>\n",
              "    </tr>\n",
              "    <tr>\n",
              "      <th>1</th>\n",
              "      <td>212646</td>\n",
              "      <td>73.259578</td>\n",
              "    </tr>\n",
              "    <tr>\n",
              "      <th>2</th>\n",
              "      <td>212647</td>\n",
              "      <td>47.114560</td>\n",
              "    </tr>\n",
              "    <tr>\n",
              "      <th>3</th>\n",
              "      <td>212648</td>\n",
              "      <td>47.114560</td>\n",
              "    </tr>\n",
              "    <tr>\n",
              "      <th>4</th>\n",
              "      <td>212649</td>\n",
              "      <td>62.346705</td>\n",
              "    </tr>\n",
              "  </tbody>\n",
              "</table>\n",
              "</div>"
            ]
          },
          "metadata": {
            "tags": []
          },
          "execution_count": 184
        }
      ]
    },
    {
      "cell_type": "code",
      "metadata": {
        "trusted": true,
        "id": "A0oVW0S-sElr",
        "colab_type": "code",
        "colab": {}
      },
      "source": [
        "submit.to_csv('sub_baseline_v0.csv', index = False)"
      ],
      "execution_count": null,
      "outputs": []
    }
  ]
}